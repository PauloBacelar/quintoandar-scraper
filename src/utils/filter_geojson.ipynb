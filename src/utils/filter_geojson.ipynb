{
 "cells": [
  {
   "cell_type": "code",
   "execution_count": null,
   "id": "4c2760c2",
   "metadata": {},
   "outputs": [],
   "source": [
    "import geopandas as gpd\n",
    "\n",
    "geojson_estado = \"./sp_estado.geojson\"\n",
    "municipios = [\"3547809\", \"3548708\", \"3548807\"]\n",
    "\n",
    "gdf = gpd.read_file(geojson_estado)\n",
    "for municipio in municipios:\n",
    "    filtered_gdf = gdf[gdf[\"CD_MUN\"] == municipio]\n",
    "    filtered_gdf.to_file(f\"../input/{municipio}.geojson\", driver=\"GeoJSON\")"
   ]
  },
  {
   "cell_type": "code",
   "execution_count": null,
   "id": "22dd2d0a",
   "metadata": {},
   "outputs": [],
   "source": []
  }
 ],
 "metadata": {
  "kernelspec": {
   "display_name": "Python 3",
   "language": "python",
   "name": "python3"
  },
  "language_info": {
   "codemirror_mode": {
    "name": "ipython",
    "version": 3
   },
   "file_extension": ".py",
   "mimetype": "text/x-python",
   "name": "python",
   "nbconvert_exporter": "python",
   "pygments_lexer": "ipython3",
   "version": "3.13.5"
  }
 },
 "nbformat": 4,
 "nbformat_minor": 5
}
