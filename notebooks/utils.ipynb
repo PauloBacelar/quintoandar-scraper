{
 "cells": [
  {
   "cell_type": "code",
   "execution_count": 34,
   "id": "dfaa5558-7936-47e4-a0ed-c29184efcb2d",
   "metadata": {},
   "outputs": [],
   "source": [
    "input_file=\"input/sao_paulo.geojson\"\n",
    "output_file=\"input/sao_paulo-zn.geojson\"\n",
    "target_districts=[\"Santana\", \"Tucuruvi\", \"Mandaqui\"]"
   ]
  },
  {
   "cell_type": "code",
   "execution_count": 35,
   "id": "a4e966da-8363-42fa-b491-78621a867596",
   "metadata": {},
   "outputs": [
    {
     "name": "stdout",
     "output_type": "stream",
     "text": [
      "Filtered GeoJSON saved to input/sao_paulo-zn.geojson\n",
      "Original features: 27301\n",
      "Filtered features: 722\n",
      "Target districts: Santana, Tucuruvi, Mandaqui\n"
     ]
    }
   ],
   "source": [
    "import geopandas as gpd\n",
    "\n",
    "def filter_geojson_districts(input_file, output_file, target_districts):\n",
    "    \"\"\"\n",
    "    Filters a GeoJSON file to keep only features where NM_DIST is in target_districts\n",
    "    \n",
    "    Args:\n",
    "        input_file (str): Path to input GeoJSON file\n",
    "        output_file (str): Path to save filtered GeoJSON\n",
    "        target_districts (list): List of district names to keep\n",
    "    \"\"\"\n",
    "    gdf = gpd.read_file(input_file)\n",
    "    \n",
    "    filtered_gdf = gdf[gdf['NM_DIST'].isin(target_districts)]\n",
    "    \n",
    "    filtered_gdf.to_file(output_file, driver='GeoJSON')\n",
    "    print(f\"Filtered GeoJSON saved to {output_file}\")\n",
    "    print(f\"Original features: {len(gdf)}\")\n",
    "    print(f\"Filtered features: {len(filtered_gdf)}\")\n",
    "    print(f\"Target districts: {', '.join(target_districts)}\")\n",
    "\n",
    "filter_geojson_districts(input_file,output_file,target_districts)"
   ]
  },
  {
   "cell_type": "code",
   "execution_count": 36,
   "id": "67ebcdf5-776f-4c6d-b1f4-094c3a0b22db",
   "metadata": {},
   "outputs": [
    {
     "ename": "FileNotFoundError",
     "evalue": "[Errno 2] No such file or directory: 'sectors-zo.json'",
     "output_type": "error",
     "traceback": [
      "\u001b[0;31m---------------------------------------------------------------------------\u001b[0m",
      "\u001b[0;31mFileNotFoundError\u001b[0m                         Traceback (most recent call last)",
      "Cell \u001b[0;32mIn[36], line 18\u001b[0m\n\u001b[1;32m     16\u001b[0m json_files \u001b[38;5;241m=\u001b[39m [\u001b[38;5;124m'\u001b[39m\u001b[38;5;124msectors-zo.json\u001b[39m\u001b[38;5;124m'\u001b[39m, \u001b[38;5;124m'\u001b[39m\u001b[38;5;124msectors-zo2.json\u001b[39m\u001b[38;5;124m'\u001b[39m]\n\u001b[1;32m     17\u001b[0m output_json \u001b[38;5;241m=\u001b[39m \u001b[38;5;124m'\u001b[39m\u001b[38;5;124mmerged-zo.json\u001b[39m\u001b[38;5;124m'\u001b[39m\n\u001b[0;32m---> 18\u001b[0m \u001b[43mmerge_json_objects\u001b[49m\u001b[43m(\u001b[49m\u001b[43mjson_files\u001b[49m\u001b[43m,\u001b[49m\u001b[43m \u001b[49m\u001b[43moutput_json\u001b[49m\u001b[43m)\u001b[49m\n",
      "Cell \u001b[0;32mIn[36], line 6\u001b[0m, in \u001b[0;36mmerge_json_objects\u001b[0;34m(file_paths, output_file)\u001b[0m\n\u001b[1;32m      4\u001b[0m combined_data \u001b[38;5;241m=\u001b[39m {}\n\u001b[1;32m      5\u001b[0m \u001b[38;5;28;01mfor\u001b[39;00m file_path \u001b[38;5;129;01min\u001b[39;00m file_paths:\n\u001b[0;32m----> 6\u001b[0m     \u001b[38;5;28;01mwith\u001b[39;00m \u001b[38;5;28;43mopen\u001b[39;49m\u001b[43m(\u001b[49m\u001b[43mfile_path\u001b[49m\u001b[43m,\u001b[49m\u001b[43m \u001b[49m\u001b[38;5;124;43m'\u001b[39;49m\u001b[38;5;124;43mr\u001b[39;49m\u001b[38;5;124;43m'\u001b[39;49m\u001b[43m)\u001b[49m \u001b[38;5;28;01mas\u001b[39;00m f:\n\u001b[1;32m      7\u001b[0m         data \u001b[38;5;241m=\u001b[39m json\u001b[38;5;241m.\u001b[39mload(f)\n\u001b[1;32m      8\u001b[0m         \u001b[38;5;28;01mif\u001b[39;00m \u001b[38;5;28misinstance\u001b[39m(data, \u001b[38;5;28mdict\u001b[39m):\n",
      "File \u001b[0;32m/usr/lib/python3.13/site-packages/IPython/core/interactiveshell.py:324\u001b[0m, in \u001b[0;36m_modified_open\u001b[0;34m(file, *args, **kwargs)\u001b[0m\n\u001b[1;32m    317\u001b[0m \u001b[38;5;28;01mif\u001b[39;00m file \u001b[38;5;129;01min\u001b[39;00m {\u001b[38;5;241m0\u001b[39m, \u001b[38;5;241m1\u001b[39m, \u001b[38;5;241m2\u001b[39m}:\n\u001b[1;32m    318\u001b[0m     \u001b[38;5;28;01mraise\u001b[39;00m \u001b[38;5;167;01mValueError\u001b[39;00m(\n\u001b[1;32m    319\u001b[0m         \u001b[38;5;124mf\u001b[39m\u001b[38;5;124m\"\u001b[39m\u001b[38;5;124mIPython won\u001b[39m\u001b[38;5;124m'\u001b[39m\u001b[38;5;124mt let you open fd=\u001b[39m\u001b[38;5;132;01m{\u001b[39;00mfile\u001b[38;5;132;01m}\u001b[39;00m\u001b[38;5;124m by default \u001b[39m\u001b[38;5;124m\"\u001b[39m\n\u001b[1;32m    320\u001b[0m         \u001b[38;5;124m\"\u001b[39m\u001b[38;5;124mas it is likely to crash IPython. If you know what you are doing, \u001b[39m\u001b[38;5;124m\"\u001b[39m\n\u001b[1;32m    321\u001b[0m         \u001b[38;5;124m\"\u001b[39m\u001b[38;5;124myou can use builtins\u001b[39m\u001b[38;5;124m'\u001b[39m\u001b[38;5;124m open.\u001b[39m\u001b[38;5;124m\"\u001b[39m\n\u001b[1;32m    322\u001b[0m     )\n\u001b[0;32m--> 324\u001b[0m \u001b[38;5;28;01mreturn\u001b[39;00m \u001b[43mio_open\u001b[49m\u001b[43m(\u001b[49m\u001b[43mfile\u001b[49m\u001b[43m,\u001b[49m\u001b[43m \u001b[49m\u001b[38;5;241;43m*\u001b[39;49m\u001b[43margs\u001b[49m\u001b[43m,\u001b[49m\u001b[43m \u001b[49m\u001b[38;5;241;43m*\u001b[39;49m\u001b[38;5;241;43m*\u001b[39;49m\u001b[43mkwargs\u001b[49m\u001b[43m)\u001b[49m\n",
      "\u001b[0;31mFileNotFoundError\u001b[0m: [Errno 2] No such file or directory: 'sectors-zo.json'"
     ]
    }
   ],
   "source": [
    "import json\n",
    "\n",
    "def merge_json_objects(file_paths, output_file):\n",
    "    combined_data = {}\n",
    "    for file_path in file_paths:\n",
    "        with open(file_path, 'r') as f:\n",
    "            data = json.load(f)\n",
    "            if isinstance(data, dict):\n",
    "                combined_data.update(data)\n",
    "            else:\n",
    "                print(f\"{file_path} does not contain a JSON object and was skipped.\")\n",
    "\n",
    "    with open(output_file, 'w', encoding='utf-8') as f:\n",
    "        json.dump(combined_data, f, ensure_ascii=False, indent=2)\n",
    "\n",
    "json_files = ['sectors-zs.json', 'sectors-zn.json']\n",
    "output_json = 'merged-zn-zs.json'\n",
    "merge_json_objects(json_files, output_json)"
   ]
  },
  {
   "cell_type": "code",
   "execution_count": null,
   "id": "6b949d43-0e2d-41f1-83c5-1c50df32be32",
   "metadata": {},
   "outputs": [],
   "source": []
  }
 ],
 "metadata": {
  "kernelspec": {
   "display_name": "Python 3 (ipykernel)",
   "language": "python",
   "name": "python3"
  },
  "language_info": {
   "codemirror_mode": {
    "name": "ipython",
    "version": 3
   },
   "file_extension": ".py",
   "mimetype": "text/x-python",
   "name": "python",
   "nbconvert_exporter": "python",
   "pygments_lexer": "ipython3",
   "version": "3.13.5"
  }
 },
 "nbformat": 4,
 "nbformat_minor": 5
}
